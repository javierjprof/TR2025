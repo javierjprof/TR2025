{
 "cells": [
  {
   "cell_type": "markdown",
   "id": "91df7763",
   "metadata": {},
   "source": [
    "# Proves del model de caçadors i preses\n",
    "Aquest notebook carrega i executa el model del fitxer `test.py`."
   ]
  },
  {
   "cell_type": "code",
   "execution_count": null,
   "id": "5ceaaff1",
   "metadata": {},
   "outputs": [],
   "source": [
    "!pip install mesa matplotlib numpy"
   ]
  },
  {
   "cell_type": "code",
   "execution_count": null,
   "id": "ab2d4bda",
   "metadata": {},
   "outputs": [],
   "source": [
    "# Carreguem el contingut de test.py\n",
    "%run test.py"
   ]
  },
  {
   "cell_type": "markdown",
   "id": "da6b4b2c",
   "metadata": {},
   "source": [
    "## Simulació i visualització\n",
    "Ara pots afegir cel·les per simular el comportament del model i visualitzar els resultats."
   ]
  }
 ],
 "metadata": {},
 "nbformat": 4,
 "nbformat_minor": 5
}